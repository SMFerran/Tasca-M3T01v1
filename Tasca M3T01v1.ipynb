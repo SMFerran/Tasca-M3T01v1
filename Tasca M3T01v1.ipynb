{
 "cells": [
  {
   "cell_type": "markdown",
   "metadata": {},
   "source": [
    "##TASCA M3 T02\n",
    "\n",
    "#en aquesta tasca treballaràs amb la llibreria numpy i amb les dades de la llibreria sklearn.datasets. D'aquesta llibreria descarrega el conjunt de dades denominat Iris.\n",
    "Tingues en compte que Iris està conformada per diversos conjunts de dades, dins d'ells, el array denominat: “data” i “target”. També està composta per llistes, per exemple: “feature_*names” i “target_*names”.\n",
    "Per a obtenir informació del dataset pots consultar el següent enllaç:\n",
    "https://scikit-learn.org/stable/modules/generated/sklearn.datasets.load_iris.html#sklearn.datasets.load_iris"
   ]
  },
  {
   "cell_type": "code",
   "execution_count": 2,
   "metadata": {},
   "outputs": [
    {
     "data": {
      "text/plain": [
       "array([[5.1, 3.5, 1.4, 0.2],\n",
       "       [4.9, 3. , 1.4, 0.2],\n",
       "       [4.7, 3.2, 1.3, 0.2],\n",
       "       [4.6, 3.1, 1.5, 0.2],\n",
       "       [5. , 3.6, 1.4, 0.2],\n",
       "       [5.4, 3.9, 1.7, 0.4],\n",
       "       [4.6, 3.4, 1.4, 0.3],\n",
       "       [5. , 3.4, 1.5, 0.2],\n",
       "       [4.4, 2.9, 1.4, 0.2],\n",
       "       [4.9, 3.1, 1.5, 0.1]])"
      ]
     },
     "execution_count": 2,
     "metadata": {},
     "output_type": "execute_result"
    }
   ],
   "source": [
    "#EXERCICI 1\n",
    "\n",
    "#Carregar “data” i \"target\" del conjunt de dades, i visualitza els 10 primers registres de cadascun.\n",
    "\n",
    "from sklearn.datasets import load_iris\n",
    "data = load_iris()\n",
    "import numpy as np\n",
    "data1=data.data \n",
    "data1\n",
    "data1[:10]\n",
    "\n"
   ]
  },
  {
   "cell_type": "code",
   "execution_count": 4,
   "metadata": {},
   "outputs": [
    {
     "data": {
      "text/plain": [
       "array([0, 0, 0, 0, 0, 0, 0, 0, 0, 0])"
      ]
     },
     "execution_count": 4,
     "metadata": {},
     "output_type": "execute_result"
    }
   ],
   "source": [
    "target=data.target\n",
    "target\n",
    "target[:10]\n"
   ]
  },
  {
   "cell_type": "code",
   "execution_count": 5,
   "metadata": {},
   "outputs": [
    {
     "data": {
      "text/plain": [
       "array([[5.1, 3.5, 1.4, 0.2, 0. ],\n",
       "       [4.9, 3. , 1.4, 0.2, 0. ],\n",
       "       [4.7, 3.2, 1.3, 0.2, 0. ],\n",
       "       [4.6, 3.1, 1.5, 0.2, 0. ],\n",
       "       [5. , 3.6, 1.4, 0.2, 0. ],\n",
       "       [5.4, 3.9, 1.7, 0.4, 0. ],\n",
       "       [4.6, 3.4, 1.4, 0.3, 0. ],\n",
       "       [5. , 3.4, 1.5, 0.2, 0. ],\n",
       "       [4.4, 2.9, 1.4, 0.2, 0. ],\n",
       "       [4.9, 3.1, 1.5, 0.1, 0. ],\n",
       "       [5.4, 3.7, 1.5, 0.2, 0. ],\n",
       "       [4.8, 3.4, 1.6, 0.2, 0. ],\n",
       "       [4.8, 3. , 1.4, 0.1, 0. ],\n",
       "       [4.3, 3. , 1.1, 0.1, 0. ],\n",
       "       [5.8, 4. , 1.2, 0.2, 0. ],\n",
       "       [5.7, 4.4, 1.5, 0.4, 0. ],\n",
       "       [5.4, 3.9, 1.3, 0.4, 0. ],\n",
       "       [5.1, 3.5, 1.4, 0.3, 0. ],\n",
       "       [5.7, 3.8, 1.7, 0.3, 0. ],\n",
       "       [5.1, 3.8, 1.5, 0.3, 0. ],\n",
       "       [5.4, 3.4, 1.7, 0.2, 0. ],\n",
       "       [5.1, 3.7, 1.5, 0.4, 0. ],\n",
       "       [4.6, 3.6, 1. , 0.2, 0. ],\n",
       "       [5.1, 3.3, 1.7, 0.5, 0. ],\n",
       "       [4.8, 3.4, 1.9, 0.2, 0. ],\n",
       "       [5. , 3. , 1.6, 0.2, 0. ],\n",
       "       [5. , 3.4, 1.6, 0.4, 0. ],\n",
       "       [5.2, 3.5, 1.5, 0.2, 0. ],\n",
       "       [5.2, 3.4, 1.4, 0.2, 0. ],\n",
       "       [4.7, 3.2, 1.6, 0.2, 0. ],\n",
       "       [4.8, 3.1, 1.6, 0.2, 0. ],\n",
       "       [5.4, 3.4, 1.5, 0.4, 0. ],\n",
       "       [5.2, 4.1, 1.5, 0.1, 0. ],\n",
       "       [5.5, 4.2, 1.4, 0.2, 0. ],\n",
       "       [4.9, 3.1, 1.5, 0.2, 0. ],\n",
       "       [5. , 3.2, 1.2, 0.2, 0. ],\n",
       "       [5.5, 3.5, 1.3, 0.2, 0. ],\n",
       "       [4.9, 3.6, 1.4, 0.1, 0. ],\n",
       "       [4.4, 3. , 1.3, 0.2, 0. ],\n",
       "       [5.1, 3.4, 1.5, 0.2, 0. ],\n",
       "       [5. , 3.5, 1.3, 0.3, 0. ],\n",
       "       [4.5, 2.3, 1.3, 0.3, 0. ],\n",
       "       [4.4, 3.2, 1.3, 0.2, 0. ],\n",
       "       [5. , 3.5, 1.6, 0.6, 0. ],\n",
       "       [5.1, 3.8, 1.9, 0.4, 0. ],\n",
       "       [4.8, 3. , 1.4, 0.3, 0. ],\n",
       "       [5.1, 3.8, 1.6, 0.2, 0. ],\n",
       "       [4.6, 3.2, 1.4, 0.2, 0. ],\n",
       "       [5.3, 3.7, 1.5, 0.2, 0. ],\n",
       "       [5. , 3.3, 1.4, 0.2, 0. ],\n",
       "       [7. , 3.2, 4.7, 1.4, 1. ],\n",
       "       [6.4, 3.2, 4.5, 1.5, 1. ],\n",
       "       [6.9, 3.1, 4.9, 1.5, 1. ],\n",
       "       [5.5, 2.3, 4. , 1.3, 1. ],\n",
       "       [6.5, 2.8, 4.6, 1.5, 1. ],\n",
       "       [5.7, 2.8, 4.5, 1.3, 1. ],\n",
       "       [6.3, 3.3, 4.7, 1.6, 1. ],\n",
       "       [4.9, 2.4, 3.3, 1. , 1. ],\n",
       "       [6.6, 2.9, 4.6, 1.3, 1. ],\n",
       "       [5.2, 2.7, 3.9, 1.4, 1. ],\n",
       "       [5. , 2. , 3.5, 1. , 1. ],\n",
       "       [5.9, 3. , 4.2, 1.5, 1. ],\n",
       "       [6. , 2.2, 4. , 1. , 1. ],\n",
       "       [6.1, 2.9, 4.7, 1.4, 1. ],\n",
       "       [5.6, 2.9, 3.6, 1.3, 1. ],\n",
       "       [6.7, 3.1, 4.4, 1.4, 1. ],\n",
       "       [5.6, 3. , 4.5, 1.5, 1. ],\n",
       "       [5.8, 2.7, 4.1, 1. , 1. ],\n",
       "       [6.2, 2.2, 4.5, 1.5, 1. ],\n",
       "       [5.6, 2.5, 3.9, 1.1, 1. ],\n",
       "       [5.9, 3.2, 4.8, 1.8, 1. ],\n",
       "       [6.1, 2.8, 4. , 1.3, 1. ],\n",
       "       [6.3, 2.5, 4.9, 1.5, 1. ],\n",
       "       [6.1, 2.8, 4.7, 1.2, 1. ],\n",
       "       [6.4, 2.9, 4.3, 1.3, 1. ],\n",
       "       [6.6, 3. , 4.4, 1.4, 1. ],\n",
       "       [6.8, 2.8, 4.8, 1.4, 1. ],\n",
       "       [6.7, 3. , 5. , 1.7, 1. ],\n",
       "       [6. , 2.9, 4.5, 1.5, 1. ],\n",
       "       [5.7, 2.6, 3.5, 1. , 1. ],\n",
       "       [5.5, 2.4, 3.8, 1.1, 1. ],\n",
       "       [5.5, 2.4, 3.7, 1. , 1. ],\n",
       "       [5.8, 2.7, 3.9, 1.2, 1. ],\n",
       "       [6. , 2.7, 5.1, 1.6, 1. ],\n",
       "       [5.4, 3. , 4.5, 1.5, 1. ],\n",
       "       [6. , 3.4, 4.5, 1.6, 1. ],\n",
       "       [6.7, 3.1, 4.7, 1.5, 1. ],\n",
       "       [6.3, 2.3, 4.4, 1.3, 1. ],\n",
       "       [5.6, 3. , 4.1, 1.3, 1. ],\n",
       "       [5.5, 2.5, 4. , 1.3, 1. ],\n",
       "       [5.5, 2.6, 4.4, 1.2, 1. ],\n",
       "       [6.1, 3. , 4.6, 1.4, 1. ],\n",
       "       [5.8, 2.6, 4. , 1.2, 1. ],\n",
       "       [5. , 2.3, 3.3, 1. , 1. ],\n",
       "       [5.6, 2.7, 4.2, 1.3, 1. ],\n",
       "       [5.7, 3. , 4.2, 1.2, 1. ],\n",
       "       [5.7, 2.9, 4.2, 1.3, 1. ],\n",
       "       [6.2, 2.9, 4.3, 1.3, 1. ],\n",
       "       [5.1, 2.5, 3. , 1.1, 1. ],\n",
       "       [5.7, 2.8, 4.1, 1.3, 1. ],\n",
       "       [6.3, 3.3, 6. , 2.5, 2. ],\n",
       "       [5.8, 2.7, 5.1, 1.9, 2. ],\n",
       "       [7.1, 3. , 5.9, 2.1, 2. ],\n",
       "       [6.3, 2.9, 5.6, 1.8, 2. ],\n",
       "       [6.5, 3. , 5.8, 2.2, 2. ],\n",
       "       [7.6, 3. , 6.6, 2.1, 2. ],\n",
       "       [4.9, 2.5, 4.5, 1.7, 2. ],\n",
       "       [7.3, 2.9, 6.3, 1.8, 2. ],\n",
       "       [6.7, 2.5, 5.8, 1.8, 2. ],\n",
       "       [7.2, 3.6, 6.1, 2.5, 2. ],\n",
       "       [6.5, 3.2, 5.1, 2. , 2. ],\n",
       "       [6.4, 2.7, 5.3, 1.9, 2. ],\n",
       "       [6.8, 3. , 5.5, 2.1, 2. ],\n",
       "       [5.7, 2.5, 5. , 2. , 2. ],\n",
       "       [5.8, 2.8, 5.1, 2.4, 2. ],\n",
       "       [6.4, 3.2, 5.3, 2.3, 2. ],\n",
       "       [6.5, 3. , 5.5, 1.8, 2. ],\n",
       "       [7.7, 3.8, 6.7, 2.2, 2. ],\n",
       "       [7.7, 2.6, 6.9, 2.3, 2. ],\n",
       "       [6. , 2.2, 5. , 1.5, 2. ],\n",
       "       [6.9, 3.2, 5.7, 2.3, 2. ],\n",
       "       [5.6, 2.8, 4.9, 2. , 2. ],\n",
       "       [7.7, 2.8, 6.7, 2. , 2. ],\n",
       "       [6.3, 2.7, 4.9, 1.8, 2. ],\n",
       "       [6.7, 3.3, 5.7, 2.1, 2. ],\n",
       "       [7.2, 3.2, 6. , 1.8, 2. ],\n",
       "       [6.2, 2.8, 4.8, 1.8, 2. ],\n",
       "       [6.1, 3. , 4.9, 1.8, 2. ],\n",
       "       [6.4, 2.8, 5.6, 2.1, 2. ],\n",
       "       [7.2, 3. , 5.8, 1.6, 2. ],\n",
       "       [7.4, 2.8, 6.1, 1.9, 2. ],\n",
       "       [7.9, 3.8, 6.4, 2. , 2. ],\n",
       "       [6.4, 2.8, 5.6, 2.2, 2. ],\n",
       "       [6.3, 2.8, 5.1, 1.5, 2. ],\n",
       "       [6.1, 2.6, 5.6, 1.4, 2. ],\n",
       "       [7.7, 3. , 6.1, 2.3, 2. ],\n",
       "       [6.3, 3.4, 5.6, 2.4, 2. ],\n",
       "       [6.4, 3.1, 5.5, 1.8, 2. ],\n",
       "       [6. , 3. , 4.8, 1.8, 2. ],\n",
       "       [6.9, 3.1, 5.4, 2.1, 2. ],\n",
       "       [6.7, 3.1, 5.6, 2.4, 2. ],\n",
       "       [6.9, 3.1, 5.1, 2.3, 2. ],\n",
       "       [5.8, 2.7, 5.1, 1.9, 2. ],\n",
       "       [6.8, 3.2, 5.9, 2.3, 2. ],\n",
       "       [6.7, 3.3, 5.7, 2.5, 2. ],\n",
       "       [6.7, 3. , 5.2, 2.3, 2. ],\n",
       "       [6.3, 2.5, 5. , 1.9, 2. ],\n",
       "       [6.5, 3. , 5.2, 2. , 2. ],\n",
       "       [6.2, 3.4, 5.4, 2.3, 2. ],\n",
       "       [5.9, 3. , 5.1, 1.8, 2. ]])"
      ]
     },
     "execution_count": 5,
     "metadata": {},
     "output_type": "execute_result"
    }
   ],
   "source": [
    "#EXERCICI 2\n",
    "\n",
    "#Concatena “data” i “features” en un nou array. Mostra els 5 primers registres. Solo se pueden concatenar por columnas porque no coinciden las filas\n",
    "\n",
    "tablas=np.column_stack([data1, target])\n",
    "tablas"
   ]
  },
  {
   "cell_type": "code",
   "execution_count": 6,
   "metadata": {},
   "outputs": [
    {
     "data": {
      "text/plain": [
       "['sepal length (cm)',\n",
       " 'sepal width (cm)',\n",
       " 'petal length (cm)',\n",
       " 'petal width (cm)']"
      ]
     },
     "execution_count": 6,
     "metadata": {},
     "output_type": "execute_result"
    }
   ],
   "source": [
    "#EXERCICI 3\n",
    "\n",
    "#Calcula la mitjana i desviació estàndard de la longitud del sèpal (\"sepal length (cm)\") \n",
    "#i la longitud del pètal (\"petal length (cm)\"). Mostra els resultats amb dos decimals\n",
    "\n",
    "nombres = data.feature_names\n",
    "nombres\n",
    "\n"
   ]
  },
  {
   "cell_type": "code",
   "execution_count": 10,
   "metadata": {},
   "outputs": [
    {
     "name": "stdout",
     "output_type": "stream",
     "text": [
      " la media de la longitud del sepalo es 5.84\n",
      " la media de la longitud del petalo es 3.76\n",
      " la desviación stand de la longitud del sepalo es 0.83\n",
      " la desviación stand de la longitud del petalo es 1.76\n"
     ]
    }
   ],
   "source": [
    "media_sepal=np.mean(data1[:,0])\n",
    "media_petal=np.mean(data1[:,2])\n",
    "desv_sepal=np.std(data1[:,0])\n",
    "desv_petal=np.std(data1[:,2])\n",
    "\n",
    "r_media_sepal =np.around(media_sepal, decimals=2)\n",
    "r_media_petal =np.around(media_petal, decimals=2)\n",
    "r_desv_sepal =np.around(desv_sepal, decimals=2)\n",
    "r_desv_petal =np.around(desv_petal, decimals=2)\n",
    "\n",
    "\n",
    "print(f\" la media de la longitud del sepalo es {r_media_sepal}\")\n",
    "print(f\" la media de la longitud del petalo es {r_media_petal}\")\n",
    "print(f\" la desviación stand de la longitud del sepalo es {r_desv_sepal}\")\n",
    "print(f\" la desviación stand de la longitud del petalo es {r_desv_petal}\")"
   ]
  },
  {
   "cell_type": "code",
   "execution_count": 21,
   "metadata": {},
   "outputs": [
    {
     "name": "stdout",
     "output_type": "stream",
     "text": [
      "['sepal length (cm)', 'sepal width (cm)', 'petal length (cm)', 'petal width (cm)']\n",
      "[[0.49463253 0.01938031 0.01282901 0.65432963]\n",
      " [0.01912595 0.93319969 0.87733907 0.45021625]\n",
      " [0.36948271 0.34442201 0.07959553 0.04718595]\n",
      " [0.37166978 0.89789059 0.21529475 0.05350127]\n",
      " [0.41577121 0.80420598 0.49595031 0.25011315]\n",
      " [0.90366833 0.25295398 0.75994403 0.37009498]\n",
      " [0.55905878 0.98945514 0.31586853 0.79724149]\n",
      " [0.74938153 0.93996225 0.18391429 0.6130425 ]\n",
      " [0.49874745 0.66450227 0.71021115 0.29816674]\n",
      " [0.05962656 0.61346845 0.54011748 0.38087942]\n",
      " [0.35229042 0.6174986  0.13373218 0.8975965 ]\n",
      " [0.92489947 0.22253189 0.35676154 0.7980535 ]\n",
      " [0.59784419 0.19372825 0.14412455 0.33603389]\n",
      " [0.61553728 0.98090816 0.18530811 0.433952  ]\n",
      " [0.62704982 0.24308696 0.20207587 0.39136527]\n",
      " [0.11195699 0.24831418 0.90308492 0.6602359 ]\n",
      " [0.13397452 0.89410392 0.77542185 0.30572919]\n",
      " [0.13084669 0.60371824 0.42620496 0.81377657]\n",
      " [0.40438769 0.36438241 0.6214335  0.85199982]\n",
      " [0.70639709 0.14679328 0.60001243 0.52715306]]\n"
     ]
    }
   ],
   "source": [
    "#EXERCICI 4\n",
    "\n",
    "#Selecciona una mostra aleatòria de 20 registres del conjunt que has obtingut en l'exercici anterior.\n",
    "\n",
    "muestra=np.random.rand(20,4)\n",
    "columnas= ['sepal length (cm)',\n",
    " 'sepal width (cm)',\n",
    " 'petal length (cm)',\n",
    " 'petal width (cm)']\n",
    "\n",
    "print(columnas)\n",
    "print(muestra)"
   ]
  },
  {
   "cell_type": "code",
   "execution_count": 22,
   "metadata": {},
   "outputs": [
    {
     "name": "stdout",
     "output_type": "stream",
     "text": [
      "Las flores para el que se han obtenido los datos son ['setosa' 'versicolor' 'virginica']\n"
     ]
    }
   ],
   "source": [
    "#EXERCICI 5\n",
    "\n",
    "#Crea una matriu que mostri: \n",
    "#• La mitjana de cada característica per espècie. \n",
    "#• La desviació estàndard de cada característica per espècie.\n",
    "\n",
    "matriu = data.target_names\n",
    "print(f\"Las flores para el que se han obtenido los datos son {matriu}\")"
   ]
  },
  {
   "cell_type": "code",
   "execution_count": 31,
   "metadata": {},
   "outputs": [
    {
     "data": {
      "text/plain": [
       "array([[5.006   , 3.428   , 1.462   , 0.246   , 0.      , 0.121764,\n",
       "        0.140816, 0.029556, 0.010884, 0.      ],\n",
       "       [5.936   , 2.77    , 4.26    , 1.326   , 1.      , 0.261104,\n",
       "        0.0965  , 0.2164  , 0.038324, 0.      ],\n",
       "       [6.588   , 2.974   , 5.552   , 2.026   , 2.      , 0.396256,\n",
       "        0.101924, 0.298496, 0.073924, 0.      ]])"
      ]
     },
     "execution_count": 31,
     "metadata": {},
     "output_type": "execute_result"
    }
   ],
   "source": [
    "extraccion_columna = tablas[:, 4]   #la especie se define en la columna 4, pido esa columna\n",
    "valores_unicos=np.unique(extraccion_columna)    #busco los valores unicos, que son 0, 1, 2\n",
    "grouped_data ={}                                #me servirá para agrupar los datos\n",
    "\n",
    "media=[]                                        #inicializo lista vacia donde se almacenaran los datos que calcule mas tarde\n",
    "varianza=[]\n",
    "\n",
    "media_calculada=np.mean(tablas, axis=0)         #calculara la media de todas las columnas\n",
    "varianza_calculada=np.var(tablas, axis=0)       #calculará la var de todas las columnas\n",
    "\n",
    "for value in valores_unicos:                    \n",
    "    indices =np.where(extraccion_columna == value)      #encuentra los valores unicos de la columna 4. son los value\n",
    "    grouped_data[value] = tablas[indices]               #agrupa las filas que tienen un valor unico en columna 4\n",
    "    media.append(np.mean(grouped_data[value], axis=0))  #calcula la media de las filas agrupadas y almacena en la lista vacia que habia creado media\n",
    "    varianza.append(np.var(grouped_data[value], axis=0))    #calcula la var de las filas agrupadas y almacena en la lista vacia que habia creado varianza\n",
    "rdo= np.column_stack((media, varianza))                 #creo una matriz. Cada fila tiene la media y la varianza de las filas agrupadas por un valor unico\n",
    "rdo\n",
    "  \n"
   ]
  },
  {
   "cell_type": "code",
   "execution_count": 21,
   "metadata": {},
   "outputs": [
    {
     "data": {
      "text/plain": [
       "(array([0., 1., 2.]), array([50, 50, 50], dtype=int64))"
      ]
     },
     "execution_count": 21,
     "metadata": {},
     "output_type": "execute_result"
    }
   ],
   "source": [
    "#EXERCICI 6\n",
    "#• Calcula la quantitat de mostres per espècie.\n",
    "columnas=tablas[:,4]            #extraigo la columna 4 que es donde se define la especie\n",
    "muestras_especie=np.unique (columnas, return_counts=True) #np.unique me busca los valores unicos de columna 4, return_count=True me hace el recuento de cada valor unico\n",
    "muestras_especie"
   ]
  },
  {
   "cell_type": "code",
   "execution_count": 22,
   "metadata": {},
   "outputs": [
    {
     "data": {
      "text/plain": [
       "[array([5.006, 3.428, 1.462, 0.246, 0.   ]),\n",
       " array([5.936, 2.77 , 4.26 , 1.326, 1.   ]),\n",
       " array([6.588, 2.974, 5.552, 2.026, 2.   ])]"
      ]
     },
     "execution_count": 22,
     "metadata": {},
     "output_type": "execute_result"
    }
   ],
   "source": [
    "media"
   ]
  },
  {
   "cell_type": "code",
   "execution_count": 52,
   "metadata": {},
   "outputs": [
    {
     "data": {
      "text/plain": [
       "'virginica'"
      ]
     },
     "execution_count": 52,
     "metadata": {},
     "output_type": "execute_result"
    }
   ],
   "source": [
    "#• Troba l'espècie amb el valor màxim mitjana de la variable \"sepal length (cm)\"\n",
    "sepal_length=rdo[:,0]               #escojo la columna correspondiente a sepal_length\n",
    "valor_maximo= np.max(sepal_length)  #le pido el valor maximo de la columna \n",
    "especie= rdo[:, 4]                  #escojo la columna donde me dice la especie\n",
    "nombres_especies =np.array([\"setosa\", \"versicolor\", \"virginica\"])   #hago el array con el nombre de las especies\n",
    "nombres_relacionados = nombres_especies[especie.astype(int)]        #astype(int) asigna los nombres de las especies con los numeros de la columna 4\n",
    "indice_maximo =np.argmax(sepal_length)                              # me busca el numero del valor max. en mi caso es el 2\n",
    "nombre_especie_maximo=nombres_relacionados[indice_maximo]           #me traduce ese indice 2 de arriba al nombre de la especie\n",
    "nombre_especie_maximo\n"
   ]
  },
  {
   "cell_type": "code",
   "execution_count": 53,
   "metadata": {},
   "outputs": [
    {
     "data": {
      "text/plain": [
       "array([[ 1.        , -0.11756978,  0.87175378,  0.81794113,  0.78256123],\n",
       "       [-0.11756978,  1.        , -0.4284401 , -0.36612593, -0.42665756],\n",
       "       [ 0.87175378, -0.4284401 ,  1.        ,  0.96286543,  0.9490347 ],\n",
       "       [ 0.81794113, -0.36612593,  0.96286543,  1.        ,  0.95654733],\n",
       "       [ 0.78256123, -0.42665756,  0.9490347 ,  0.95654733,  1.        ]])"
      ]
     },
     "execution_count": 53,
     "metadata": {},
     "output_type": "execute_result"
    }
   ],
   "source": [
    "#EXERCICI 7\n",
    "#Calcula la matriu de correlació entre les variables.  corrcoef\n",
    "#• Filtra els valors majors a la mitjana de la longitud dels pètals i mostra-ho. \n",
    "#• Troba la mostra amb els pètals més grans.\n",
    "\n",
    "matriz_correlación = np.corrcoef(tablas, rowvar=False) # rowvar=False me interpreta las columnas como variables\n",
    "matriz_correlación\n"
   ]
  },
  {
   "cell_type": "code",
   "execution_count": 60,
   "metadata": {},
   "outputs": [
    {
     "data": {
      "text/plain": [
       "array([5.1, 4.9, 4.7, 4.6, 5. , 5.4, 3.9, 4.6, 5. , 4.4, 4.9, 5.4, 4.8,\n",
       "       4.8, 4.3, 5.8, 4. , 5.7, 4.4, 5.4, 3.9, 5.1, 5.7, 3.8, 5.1, 3.8,\n",
       "       5.4, 5.1, 4.6, 5.1, 4.8, 5. , 5. , 5.2, 5.2, 4.7, 4.8, 5.4, 5.2,\n",
       "       4.1, 5.5, 4.2, 4.9, 5. , 5.5, 4.9, 4.4, 5.1, 5. , 4.5, 4.4, 5. ,\n",
       "       5.1, 3.8, 4.8, 5.1, 3.8, 4.6, 5.3, 5. , 7. , 4.7, 6.4, 4.5, 6.9,\n",
       "       4.9, 5.5, 4. , 6.5, 4.6, 5.7, 4.5, 6.3, 4.7, 4.9, 6.6, 4.6, 5.2,\n",
       "       3.9, 5. , 5.9, 4.2, 6. , 4. , 6.1, 4.7, 5.6, 6.7, 4.4, 5.6, 4.5,\n",
       "       5.8, 4.1, 6.2, 4.5, 5.6, 3.9, 5.9, 4.8, 6.1, 4. , 6.3, 4.9, 6.1,\n",
       "       4.7, 6.4, 4.3, 6.6, 4.4, 6.8, 4.8, 6.7, 5. , 6. , 4.5, 5.7, 5.5,\n",
       "       3.8, 5.5, 5.8, 3.9, 6. , 5.1, 5.4, 4.5, 6. , 4.5, 6.7, 4.7, 6.3,\n",
       "       4.4, 5.6, 4.1, 5.5, 4. , 5.5, 4.4, 6.1, 4.6, 5.8, 4. , 5. , 5.6,\n",
       "       4.2, 5.7, 4.2, 5.7, 4.2, 6.2, 4.3, 5.1, 5.7, 4.1, 6.3, 6. , 5.8,\n",
       "       5.1, 7.1, 5.9, 6.3, 5.6, 6.5, 5.8, 7.6, 6.6, 4.9, 4.5, 7.3, 6.3,\n",
       "       6.7, 5.8, 7.2, 6.1, 6.5, 5.1, 6.4, 5.3, 6.8, 5.5, 5.7, 5. , 5.8,\n",
       "       5.1, 6.4, 5.3, 6.5, 5.5, 7.7, 3.8, 6.7, 7.7, 6.9, 6. , 5. , 6.9,\n",
       "       5.7, 5.6, 4.9, 7.7, 6.7, 6.3, 4.9, 6.7, 5.7, 7.2, 6. , 6.2, 4.8,\n",
       "       6.1, 4.9, 6.4, 5.6, 7.2, 5.8, 7.4, 6.1, 7.9, 3.8, 6.4, 6.4, 5.6,\n",
       "       6.3, 5.1, 6.1, 5.6, 7.7, 6.1, 6.3, 5.6, 6.4, 5.5, 6. , 4.8, 6.9,\n",
       "       5.4, 6.7, 5.6, 6.9, 5.1, 5.8, 5.1, 6.8, 5.9, 6.7, 5.7, 6.7, 5.2,\n",
       "       6.3, 5. , 6.5, 5.2, 6.2, 5.4, 5.9, 5.1])"
      ]
     },
     "execution_count": 60,
     "metadata": {},
     "output_type": "execute_result"
    }
   ],
   "source": [
    "\n",
    "#• Filtra els valors majors a la mitjana de la longitud dels pètals i mostra-ho. \n",
    "\n",
    "longitud_petals = tablas[:, 2]      \n",
    "media=np.mean(longitud_petals)\n",
    "media\n",
    "majors_media=tablas>media       #si solo hiciera esto me daria una tabla de True y False\n",
    "valores= tablas[majors_media]\n",
    "valores\n"
   ]
  },
  {
   "cell_type": "code",
   "execution_count": 65,
   "metadata": {},
   "outputs": [
    {
     "data": {
      "text/plain": [
       "array([[6.9],\n",
       "       [2.5]])"
      ]
     },
     "execution_count": 65,
     "metadata": {},
     "output_type": "execute_result"
    }
   ],
   "source": [
    "#• Troba la mostra amb els pètals més grans.\n",
    "longitud_petals = tablas[:, 2]  \n",
    "anchura_petals = tablas[:, 3]  \n",
    "max_long=np.max(longitud_petals)\n",
    "max_anch=np.max(anchura_petals)\n",
    "petal_mes_gran = np.vstack([max_long,max_anch ])\n",
    "petal_mes_gran\n",
    "\n",
    "\n"
   ]
  },
  {
   "cell_type": "code",
   "execution_count": 87,
   "metadata": {},
   "outputs": [
    {
     "data": {
      "text/plain": [
       "'setosa'"
      ]
     },
     "execution_count": 87,
     "metadata": {},
     "output_type": "execute_result"
    }
   ],
   "source": [
    "#EXERCICI 8\n",
    "#Troba l'espècie amb la diferència més gran entre la longitud mitjana de sèpals i pètals. \n",
    "\n",
    "\n",
    "sepal_length=tablas[:,0]               \n",
    "media_sepal_lenght= np.mean(sepal_length)\n",
    "petal_lenght=tablas[:,2]\n",
    "media_petal_lenght= np.mean(petal_lenght)\n",
    "especie= rdo[:, 4]  \n",
    "nombres_especies =np.array([\"setosa\", \"versicolor\", \"virginica\"])   #hago el array con el nombre de las especies\n",
    "nombres_relacionados = nombres_especies[especie.astype(int)]        #astype(int) asigna los nombres de las especies con los numeros de la columna 4\n",
    "diferencia_max =np.argmax(np.abs(media_sepal_lenght-media_petal_lenght)) #abs me da la dif absoluta. argmax me da el indice de la dif maxima que necesitaré para cruzar con el nombre especie\n",
    "nombre_especie_diferencia=nombres_relacionados[diferencia_max]       #me traduce ese indice de arriba al nombre de la especie\n",
    "nombre_especie_diferencia\n"
   ]
  }
 ],
 "metadata": {
  "kernelspec": {
   "display_name": "Python 3",
   "language": "python",
   "name": "python3"
  },
  "language_info": {
   "codemirror_mode": {
    "name": "ipython",
    "version": 3
   },
   "file_extension": ".py",
   "mimetype": "text/x-python",
   "name": "python",
   "nbconvert_exporter": "python",
   "pygments_lexer": "ipython3",
   "version": "3.11.4"
  }
 },
 "nbformat": 4,
 "nbformat_minor": 2
}
